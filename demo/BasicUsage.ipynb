{
 "cells": [
  {
   "cell_type": "markdown",
   "id": "c5b5a82f-92ac-4757-9164-aa0ec27620b0",
   "metadata": {},
   "source": [
    "First we need to include the source files for the BMP functions."
   ]
  },
  {
   "cell_type": "code",
   "execution_count": null,
   "id": "8e717ec9-e484-42f4-bb78-dc54b133344d",
   "metadata": {},
   "outputs": [],
   "source": [
    "include(\"../src/BMP.jl\")"
   ]
  },
  {
   "cell_type": "markdown",
   "id": "465c5d62-8e60-4186-9336-a0de784768e8",
   "metadata": {},
   "source": [
    "# Constructing BMPs"
   ]
  },
  {
   "cell_type": "markdown",
   "id": "d460a60b-3af9-45b8-9319-56c13a2b74a6",
   "metadata": {},
   "source": [
    "Two constructors are provided for a BMP. One of these creates a BMP for a function that selects a single variable (i.e. $f(x_1, \\dotsc, x_n) = x_i$ for some $i \\in \\{1,2,\\dotsc,n\\}$) and the other creates a BMP for the constant functions ($f(x_1,\\dotsc,x_n) = 1$ or $f(x_1,\\dotsc,x_n) = 0$). More complicated functions can be sythnesized from these building blocks."
   ]
  },
  {
   "cell_type": "code",
   "execution_count": null,
   "id": "47f1f859-ea47-43fc-b4c3-bbc825b4105d",
   "metadata": {},
   "outputs": [],
   "source": [
    "x1 = BMP_bitline(1, 3) # BMP for variable 1 of three variables\n",
    "x2 = BMP_bitline(2, 3)\n",
    "x3 = BMP_bitline(3, 3)\n",
    "cnst0 = BMP(0, 3)\n",
    "cnst1 = BMP(1, 3)"
   ]
  },
  {
   "cell_type": "markdown",
   "id": "9b78666e-9a11-42f9-8c2c-424298646534",
   "metadata": {},
   "source": [
    "The most important BMP operation is APPLY. This method takes the BMPs for a number of functions $g_1(\\vec{x}), g_2(\\vec{x}), \\dotsc, g_k(\\vec{x})$, and produces the BMP for the composite function\n",
    "$$\n",
    "f\\left( g_1(\\vec{x}), g_2(\\vec{x}), \\dotsc, g_k(\\vec{x}) \\right).\n",
    "$$\n",
    "The APPLY operation needs as inputs the BMPs for $g_i(\\vec{x})$ and the truth table of the function $f$. The truth table is specified as a simple array of length $2^k$. The (0-based) indices of this array correspond to the values of the $k$ input values, with the most significant bit being the value of the first input variable. (So that the truth table array for $f(g_1, g_2) = \\overline{g_1} g_2$ is $[0,1,0,0]$, as a simple example.)"
   ]
  },
  {
   "cell_type": "markdown",
   "id": "7df2bd27-c989-4321-84a2-683ddc617377",
   "metadata": {},
   "source": [
    "Now, let's build the BMP for the function\n",
    "$$\n",
    "f(x_1, x_2, x_3) = x_1 x_2 + \\overline{x_3}.\n",
    "$$\n",
    "We can do this step by step using the simple gates AND, OR, and NOT. In addition, NOT can be replaced by XOR'ing with constant 1. We first define the truth tables of these gates for convenience."
   ]
  },
  {
   "cell_type": "code",
   "execution_count": null,
   "id": "1d19fa45-848b-466c-b548-27b55c82bf86",
   "metadata": {},
   "outputs": [],
   "source": [
    "gAND = [0, 0, 0, 1]\n",
    "gOR = [0, 1, 1, 1]\n",
    "gXOR = [0, 1, 1, 0]"
   ]
  },
  {
   "cell_type": "markdown",
   "id": "2b659593-50c7-4b53-b4b0-0a4517950889",
   "metadata": {},
   "source": [
    "The BMP is then constructed using the following piece of code."
   ]
  },
  {
   "cell_type": "code",
   "execution_count": null,
   "id": "c66a6fcd-f7d4-4765-a764-6d928fe94330",
   "metadata": {},
   "outputs": [],
   "source": [
    "t1 = BMP_apply(x1, x2, gAND) # The first term\n",
    "t2 = BMP_apply(x3, cnst1, gXOR) # The second term\n",
    "bmp = BMP_apply(t1, t2, gOR)"
   ]
  },
  {
   "cell_type": "markdown",
   "id": "e1e03ec9-0b19-448d-93f9-b588dc2f592f",
   "metadata": {},
   "source": [
    "To verify that the correct BMP has been generated, we can check its output for all possible inputs. `eval` function evaluates the BMP for a given set of input values. These input values are given as an array. The size of the array along the first dimension must be the number of input bits, the rest of the dimensions can be anything. For $n$ inputs and $m$ outputs, if the input array has dimensions $(n, d_1, d_2, \\dotsc)$ the output array will have dimensions $(m, d_1, d_2, \\dotsc)$."
   ]
  },
  {
   "cell_type": "code",
   "execution_count": null,
   "id": "7909b981-f15e-4115-8efa-9e94f77378e6",
   "metadata": {},
   "outputs": [],
   "source": [
    "all_inputs = [j >> (3-i) & 1 for i=1:3, j=0:7] # 3x8 array containing inputs\n",
    "all_outputs = eval(bmp, all_inputs) # The output is 1x8\n",
    "f_out = reshape([(i1 & i2) | (~i3 & 1) for i3=0:1, i2=0:1, i1=0:1], (1,8)) # Output computed directly\n",
    "for j in axes(all_inputs,2)\n",
    "    for i in axes(all_inputs,1)\n",
    "        print(\" $(all_inputs[i,j])\")\n",
    "    end\n",
    "    print(\" | $(all_outputs[1,j])\\n\")\n",
    "end\n",
    "print(\"Input tests: \")\n",
    "print(all(f_out .== all_outputs) ? \"PASSED\\n\" : \"FAILED\\n\")"
   ]
  },
  {
   "cell_type": "markdown",
   "id": "0454066f-8c0c-4036-9afd-63bb43dd5862",
   "metadata": {},
   "source": [
    "Alternatively, the BMP can be built in a single step using the truth table of $f$."
   ]
  },
  {
   "cell_type": "code",
   "execution_count": null,
   "id": "a4bb1593-c8a0-4a5d-90d2-0f4b2099ccfd",
   "metadata": {},
   "outputs": [],
   "source": [
    "bmp1 = BMP_apply([x1, x2, x3], reshape(f_out, 8))\n",
    "@show all(eval(bmp, all_inputs) .== eval(bmp1, all_inputs))"
   ]
  },
  {
   "cell_type": "markdown",
   "id": "fc67f4de-e8a6-47d9-a0fa-c3b4ed1f0c8e",
   "metadata": {},
   "source": [
    "# Evaluation"
   ]
  },
  {
   "cell_type": "markdown",
   "id": "e20a0941-98cc-464a-b422-957a44959980",
   "metadata": {},
   "source": [
    "The matrices that comprise the BMP are row-switching, which means that they have a single non-zero entry equal to one on each row. These matrices can be represented by one-dimensional vectors whose entries indicate the non-zero column indices of rows, as in\n",
    "$$A = \\begin{bmatrix} 0 & 1 & 0 \\\\ 1 & 0 & 0 \\\\ 0 & 0 & 1 \\end{bmatrix}\n",
    "\\to\n",
    "a = [2, 1, 3].\n",
    "$$"
   ]
  },
  {
   "cell_type": "markdown",
   "id": "4880a7cc-ad6f-40c3-b264-f596084adc6e",
   "metadata": {},
   "source": [
    "Such matrices can be efficiently multiplied as well. If $A$ and $B$ are both such matrices represented by arrays $a$ and $b$, the array representing $C = AB$ is simply $c[i] = b[a[i]]$.\n",
    "\n",
    "Given a BMP of matrices $M^{(x_1)}_1, M^{(x_2)}_2, \\dotsc, M^{(x_n)}_n$, a terminal vector $R$, and the input $\\vec{v} = (v_1, v_2, \\dotsc, v_n)$, the output is simply the product\n",
    "$$\n",
    "M^{(v_1)}_1 \\cdot M^{(v_2)}_2 \\cdot \\dotsc \\cdot M^{(x_{n-1})}_{n-1} \\cdot M^{(x_n)}_n \\cdot R.\n",
    "$$\n",
    "For general matrices, the optimal order to perform these multiplications can be found using dynamic programming. This is unnecessary for BMPs because with the vector representation of row-switching matrices the cost of a single multiplication only depends on the number of rows of the left matrix. Furthermore, in a generic BMP, the leftmost matrix will usually be the smallest one. Therefore we can simply start with the leftmost matrix and go through the chain left-to-right. We can simply initiate an array $t \\gets m^{(v_1)}_1$ and repeatedly update this as $t[i] \\gets m^{(v_k)}_k[t[i]]$ for $k=2,\\dotsc,n$. The size of the array $t$ doesn't need to change, so only one memory allocation is necessary.\n",
    "\n",
    "This approach is very similar to a graph traversal. We start at a particular row of the first matrix and jump to a row on the second matrix following the non-zero entry of the initial row. It is implemented in the code with the following functions."
   ]
  },
  {
   "cell_type": "code",
   "execution_count": null,
   "id": "49acac92-0c69-46e5-b66c-7bb034402688",
   "metadata": {},
   "outputs": [],
   "source": [
    "function eval(bmp::BareBMP, x::BitArray, R::Vector{<:Integer}, order::Vector{<:Integer})::BitArray\n",
    "    n = size(bmp, 1)\n",
    "    m = length(bmp[1,1].rows)\n",
    "    n_samps = div(length(x), size(x, 1))\n",
    "    x_ = reshape(x, (n, n_samps))\n",
    "    result = BitArray(undef, (m, n_samps))\n",
    "    mat = fill(RSMInt(0), m)\n",
    "    for j=1:n_samps\n",
    "        mat .= bmp[1, x_[order[1],j] + 1].rows\n",
    "        for i=2:n\n",
    "            RSM_mult_inplace(mat, bmp[i, x_[order[i], j] + 1])\n",
    "        end\n",
    "        for k=1:m\n",
    "            result[k,j] = R[mat[k]]\n",
    "        end\n",
    "    end\n",
    "    shape = [i for i in size(x)]\n",
    "    shape[1] = m\n",
    "    return reshape(result, Tuple(shape))\n",
    "end\n",
    "\n",
    "function eval(bmp::BMP, x::BitArray)::BitArray\n",
    "    return eval(bmp.M, x, bmp.R, bmp.order)\n",
    "end\n",
    "\n",
    "function eval(bmp::BMP, x::Array{<:Integer})\n",
    "    f = eval(bmp, x .!= 0)\n",
    "    return Array{eltype(x)}(f)\n",
    "end"
   ]
  },
  {
   "cell_type": "markdown",
   "id": "aae2c50e-00fc-4571-b1ae-be1cb6029ad0",
   "metadata": {},
   "source": [
    "The important lines here are 7 through 16. The storage for outputs is allocated on line 7. The loop starting in the following line iterates over all sets of inputs given for the function. (The user can evaluate multiple values with a single call.) On line 9 the output vector is filled with the values of the first matrix array. The first inner loop is all the matrix multiplications performed in place, i.e. the results are written directly into `mat`. The second inner loop is the multiplication with the terminal vector $R$ whose result is written into the full result array.\n",
    "\n",
    "Note that the input bits are indexed through an array called `order`. This is because the variable ordering of BMPs can be changed, as explained below."
   ]
  },
  {
   "cell_type": "markdown",
   "id": "0677c5c4-6e46-41b1-8d1e-6f1e15698882",
   "metadata": {},
   "source": [
    "# Multiple outputs"
   ]
  },
  {
   "cell_type": "markdown",
   "id": "f12cb797-bf1a-482c-b004-d41f32e41e0b",
   "metadata": {},
   "source": [
    "Often we want to work with BMPs that have multiple outputs. We can create such a BMP from a collection of single output BMPs using the `BMP_join` function. As an example, we can build an adder that has $2n$ inputs (two $n$-bit numbers) and $n+1$ outputs."
   ]
  },
  {
   "cell_type": "code",
   "execution_count": null,
   "id": "0c58ed16-9f4b-449a-a20d-e80dc701eece",
   "metadata": {},
   "outputs": [],
   "source": [
    "function adder_bits(n::Integer)\n",
    "    carry = BMP(0, 2*n)\n",
    "    outputs = Vector{BMP}(undef, n+1)\n",
    "    for i=n:-1:1\n",
    "        xi = BMP_bitline(i, 2*n)\n",
    "        yi = BMP_bitline(i+n, 2*n)\n",
    "        outputs[i+1] = BMP_apply([xi, yi, carry], [0, 1, 1, 0, 1, 0, 0, 1])\n",
    "        carry = BMP_apply([xi, yi, carry], [0, 0, 0, 1, 0, 1, 1, 1])\n",
    "    end\n",
    "    outputs[1] = carry\n",
    "    return outputs\n",
    "end\n",
    "\n",
    "outputs8 = adder_bits(8)\n",
    "adder8 = BMP_join(outputs8)\n",
    "\n",
    "# Test the adder\n",
    "adder_inputs = [(i << 8 | j) >> k & 1 for k=15:-1:0, j=0:255, i=0:255]\n",
    "adder_outputs = [(i+j) >> k & 1 for k=8:-1:0, j=0:255, i=0:255]\n",
    "@show all(eval(adder8, adder_inputs) .== adder_outputs)"
   ]
  },
  {
   "cell_type": "markdown",
   "id": "9bdb2a98-5913-489a-a572-30119033b2d5",
   "metadata": {},
   "source": [
    "# BMP size and cleaning"
   ]
  },
  {
   "cell_type": "markdown",
   "id": "1abc8ee5-e177-454f-90c6-e05853d15f36",
   "metadata": {},
   "source": [
    "The BMP is essentially a collection of 'row-switching' matrices, i.e. matrices with a single non-zero column on each row. Such matrices can be stored as one-dimensional arrays of numbers that indicate the non-zero column of each row. The space required for a BMP then is proportional to the sum of row numbers of the matrices, plus the length of the terminal vector. The functions `BMP_volume` computes this quantity."
   ]
  },
  {
   "cell_type": "code",
   "execution_count": null,
   "id": "247b2660-4bab-4a71-8215-9d0f34ab0b0f",
   "metadata": {},
   "outputs": [],
   "source": [
    "@show BMP_volume(adder8)"
   ]
  },
  {
   "cell_type": "markdown",
   "id": "ad5f3ccd-4f16-49d5-84e3-58976a4de1d0",
   "metadata": {},
   "source": [
    "The sizes of individual matrices can be accessed using `BMP_dims` as shown below."
   ]
  },
  {
   "cell_type": "code",
   "execution_count": null,
   "id": "66e34374-73cd-40b9-9afe-eed5815dd34c",
   "metadata": {},
   "outputs": [],
   "source": [
    "@show BMP_dims(adder8)\n",
    "@show BMP_dims(adder8, 1)\n",
    "@show BMP_dims(adder8, 9)"
   ]
  },
  {
   "cell_type": "markdown",
   "id": "d171c433-9f59-4d97-a87c-a16b8108be25",
   "metadata": {},
   "source": [
    "The BMP for a function is not unique, since it may contain redundancies. In general we want to get rid of these and obtain the smallest possible BMP. This is what the CLEAN operation does. This operation can be performed left-to-right in the matrix chain or right-to-left, the two versions are not interchangeable but achieve different results. Depending on how a BMP is constructed, a right-to-left sweep may suffice, but there are cases where both are necessary."
   ]
  },
  {
   "cell_type": "markdown",
   "id": "08d18108-e112-4b2a-9dfd-e637b9f31c95",
   "metadata": {},
   "source": [
    "The APPLY operation as implemented by `BMP_apply` in fact produces a redundant BMP first, and uses the CLEAN operation to generate the minimized BMP. `BMP_apply_noclean` skips this step. We can see the differences in size for the function we constructed in the first section."
   ]
  },
  {
   "cell_type": "code",
   "execution_count": null,
   "id": "c00b195c-5111-4110-a53d-a4fc9b1457bc",
   "metadata": {},
   "outputs": [],
   "source": [
    "@show BMP_volume(bmp1)\n",
    "bmp2 = BMP_apply_noclean([x1, x2, x3], reshape(f_out, 8))\n",
    "@show BMP_volume(bmp2)\n",
    "@show all(eval(bmp1, all_inputs) .== eval(bmp2, all_inputs))"
   ]
  },
  {
   "cell_type": "markdown",
   "id": "7a40a688-3f36-4645-aed8-5fe8357a5c12",
   "metadata": {},
   "source": [
    "We can clean this both ways to see how the BMP size decreases."
   ]
  },
  {
   "cell_type": "code",
   "execution_count": null,
   "id": "efdb03ab-df3d-4868-8287-4cba66f0412e",
   "metadata": {},
   "outputs": [],
   "source": [
    "# Left-to-right cleaning\n",
    "bmp2_lr = BMP_clean1_lr(bmp2)\n",
    "@show BMP_volume(bmp2_lr)\n",
    "@show all(eval(bmp2_lr, all_inputs) .== eval(bmp2, all_inputs))\n",
    "\n",
    "# Right-to-left cleaning\n",
    "bmp2_rl = BMP_clean1_rl(bmp2)\n",
    "@show BMP_volume(bmp2_rl)\n",
    "@show all(eval(bmp2_rl, all_inputs) .== eval(bmp2, all_inputs))\n",
    "\n",
    "# Left-to-right, followed by right-to-left\n",
    "bmp2_ = BMP_clean1(bmp2)\n",
    "@show BMP_volume(bmp2_)\n",
    "@show all(eval(bmp2_, all_inputs) .== eval(bmp2, all_inputs))"
   ]
  },
  {
   "cell_type": "markdown",
   "id": "661d1f45-cf29-47c8-8633-0f96d67bed32",
   "metadata": {},
   "source": [
    "Note that while it looks like the right-to-left cleaning was sufficient for this specific function, it is in general necessary to do two sweeps when using `BMP_apply`. There is a different implementation of APPLY that's called `BMP_minapply`, for which the right-to-left sweep is always enough to reach the minimum BMP. This is because the redundancies removed by the left-to-right sweep do not show up at all with this method. As a result, it is faster in a lot of cases. However, because it uses a more complicated algorithm, there are circumstances where `BMP_apply` is more efficient."
   ]
  },
  {
   "cell_type": "markdown",
   "id": "2e32ec6b-effd-4afe-a63d-fc8542d45a8b",
   "metadata": {},
   "source": [
    "# Variable ordering"
   ]
  },
  {
   "cell_type": "markdown",
   "id": "93125ad9-f66c-43ad-ae8c-fb750cde8475",
   "metadata": {},
   "source": [
    "By default, the variables in the BMP are ordered $1$ through $n$ from left-to-right. We can see this by accessing the `order` field of the BMP. (The output below is in hexadecimal since this is default behavior in Julia for unsigned integers.)"
   ]
  },
  {
   "cell_type": "code",
   "execution_count": null,
   "id": "9b571889-6519-412d-bb7f-50cc5e36b230",
   "metadata": {},
   "outputs": [],
   "source": [
    "@show bmp1.order\n",
    "@show adder8.order"
   ]
  },
  {
   "cell_type": "markdown",
   "id": "600f7228-9629-499f-a3f1-dcf55994112d",
   "metadata": {},
   "source": [
    "We can construct a BMP with a particular ordering from the beginning, or change the ordering after the construction. The former is done by using the appropriate constructors."
   ]
  },
  {
   "cell_type": "code",
   "execution_count": null,
   "id": "ca4953e7-edb7-4044-8a62-ad6c38121d31",
   "metadata": {},
   "outputs": [],
   "source": [
    "x1_ = BMP_bitline(1, [3,2,1]) # BMP for variable 1 with variable ordering [3,2,1]\n",
    "x2_ = BMP_bitline(2, [3,2,1])\n",
    "x3_ = BMP_bitline(3, [3,2,1])\n",
    "cnst1_ = BMP(1, [3,2,1])\n",
    "bmp1_rev = BMP_apply([x1_, x2_, x3_], reshape(f_out, 8))\n",
    "@show bmp1_rev.order\n",
    "@show all(eval(bmp1_rev, all_inputs) .== eval(bmp1, all_inputs))"
   ]
  },
  {
   "cell_type": "markdown",
   "id": "d070a7f8-7f71-4589-9854-91f291b295e1",
   "metadata": {},
   "source": [
    "Note that the internal variable ordering does not affect the ordering used for the inputs when calling `eval`. One therefore needs to distinguish the variable labels and the positions on the BMP. The first variable from the left is not necessarily the variable with label $1$. `eval`, `BMP_bitline`, `BMP` functions all refer to variable labels and not positions.\n",
    "\n",
    "Also note that APPLY can only be used on BMPs that have the same variable orderings. This has to be ensured by the user as the functions `BMP_apply` and `BMP_minapply` do not perform this check."
   ]
  },
  {
   "cell_type": "markdown",
   "id": "5783b025-3ae1-4713-956b-723e4eff761a",
   "metadata": {},
   "source": [
    "In order to change the variable ordering after construction we can use SWAP. This switches the order of the variable at a particular position and the variable to the right of it. Unlike the functions above, SWAP refers to the position on the internal variable ordering and not to the variable label."
   ]
  },
  {
   "cell_type": "code",
   "execution_count": null,
   "id": "45b49680-c318-4965-9b46-f49cd9017a03",
   "metadata": {},
   "outputs": [],
   "source": [
    "BMP_swap!(bmp1_rev, 1) # Switch the variables at positions 1 and 2\n",
    "@show bmp1_rev.order\n",
    "@show all(eval(bmp1_rev, all_inputs) .== eval(bmp1, all_inputs))"
   ]
  },
  {
   "cell_type": "markdown",
   "id": "44b01f00-ec7f-473e-bd1c-c541e7eb7366",
   "metadata": {},
   "source": [
    "Importantly, `BMP_swap!` modifies the input BMP, instead of returning a new one."
   ]
  },
  {
   "cell_type": "markdown",
   "id": "4f9a5793-0f41-46a3-86ee-dba164c2c09f",
   "metadata": {},
   "source": [
    "The variable ordering can have a dramatic effect on the BMP volume. This cannot really be seen for the simple function we have above but is much more clear for the adder, as seen below."
   ]
  },
  {
   "cell_type": "code",
   "execution_count": null,
   "id": "af5d0749-c507-4a92-9c9b-0d53b37797de",
   "metadata": {},
   "outputs": [],
   "source": [
    "function adder_bits_ordered(n::Integer)\n",
    "    carry = BMP(0, 2*n)\n",
    "    outputs = Vector{BMP}(undef, n+1)\n",
    "    order = reshape([i + v * n for v=0:1, i=1:n], 2*n)\n",
    "    @show order\n",
    "    for i=n:-1:1\n",
    "        xi = BMP_bitline(i, order)\n",
    "        yi = BMP_bitline(i+n, order)\n",
    "        outputs[i+1] = BMP_apply([xi, yi, carry], [0, 1, 1, 0, 1, 0, 0, 1])\n",
    "        carry = BMP_apply([xi, yi, carry], [0, 0, 0, 1, 0, 1, 1, 1])\n",
    "    end\n",
    "    outputs[1] = carry\n",
    "    return outputs\n",
    "end\n",
    "\n",
    "outputs8_ord = adder_bits_ordered(8)\n",
    "adder8_ord = BMP_join(outputs8_ord)\n",
    "@show BMP_volume(adder8_ord)\n",
    "@show BMP_volume(adder8)\n",
    "@show all(eval(adder8_ord, adder_inputs) .== adder_outputs)"
   ]
  },
  {
   "cell_type": "markdown",
   "id": "5f442b7b-4402-40e6-9ec7-4cd5517d33c5",
   "metadata": {},
   "source": [
    "The default variable ordering leads to a BMP that is larger by more than an order of magnitude. Given this situation, it makes sense to search for the optimal variable ordering for a given function. This can be done before constructing a BMP for certain classes of functions, assuming their form known beforehand. We are more concerned with the case where the function is already represented by a BMP. In such cases, there exists an exact method of exponential complexity, which is a version of best-first search with some additional optimizations adapted to this problem. It is implemented by `exact_minimize` method in the `BMP_ordering.jl` file."
   ]
  },
  {
   "cell_type": "code",
   "execution_count": null,
   "id": "9aae569c-43f6-4330-a4ca-7ed745748002",
   "metadata": {},
   "outputs": [],
   "source": [
    "include(\"../src/BMP_ordering.jl\")\n",
    "\n",
    "# Initial variable ordering and volume\n",
    "@show Int.(adder8.order)\n",
    "@show BMP_volume(adder8)\n",
    "\n",
    "# Optimized variable ordering and volume\n",
    "@time exact_minimize!(adder8)\n",
    "@show Int.(adder8.order)\n",
    "@show BMP_volume(adder8)\n",
    "@show all(eval(adder8, adder_inputs) .== adder_outputs)"
   ]
  },
  {
   "cell_type": "markdown",
   "id": "57550e36-11eb-497a-9c3c-a0b83df9bd1d",
   "metadata": {},
   "source": [
    "Exact minimization can be quite slow. Usually it's a better idea to try a heuristic algorithm called 'sifting' to see if it produces a reasonable small BMP."
   ]
  },
  {
   "cell_type": "code",
   "execution_count": null,
   "id": "465f0d1d-e0d9-4691-92a6-2275d585c87a",
   "metadata": {},
   "outputs": [],
   "source": [
    "adder8 = BMP_join(adder_bits(8))\n",
    "@show Int.(adder8.order)\n",
    "@show BMP_volume(adder8)\n",
    "\n",
    "@time sift!(adder8)\n",
    "@show Int.(adder8.order)\n",
    "@show BMP_volume(adder8)\n",
    "@show all(eval(adder8, adder_inputs) .== adder_outputs)"
   ]
  },
  {
   "cell_type": "markdown",
   "id": "1e83987f-a0d1-41bb-87d4-82a0dbfc4195",
   "metadata": {},
   "source": [
    "In this example the sifting algorithm finds the optimal variable ordering in a fraction of time, but it usually won't perform so well. While the runtime should remain tiny compared to the exact method, the variable ordering it comes up with will be a local minimum of BMP volume a few times larger than that of the optimal ordering. In fact, this will be the case for the adder as well if it's initialized with the opposite variable ordering."
   ]
  },
  {
   "cell_type": "code",
   "execution_count": null,
   "id": "7fab409b-18fb-4bcd-ada8-08ba9fcc21cb",
   "metadata": {},
   "outputs": [],
   "source": [
    "function adder_bits_rev(n::Integer)\n",
    "    carry = BMP(0, 2*n)\n",
    "    outputs = Vector{BMP}(undef, n+1)\n",
    "    order = reverse(collect(1:2*n))\n",
    "    @show order\n",
    "    for i=n:-1:1\n",
    "        xi = BMP_bitline(i, order)\n",
    "        yi = BMP_bitline(i+n, order)\n",
    "        outputs[i+1] = BMP_apply([xi, yi, carry], [0, 1, 1, 0, 1, 0, 0, 1])\n",
    "        carry = BMP_apply([xi, yi, carry], [0, 0, 0, 1, 0, 1, 1, 1])\n",
    "    end\n",
    "    outputs[1] = carry\n",
    "    return outputs\n",
    "end\n",
    "\n",
    "outputs8_rev = adder_bits_rev(8)\n",
    "adder8_rev = BMP_join(outputs8_rev)\n",
    "@show BMP_volume(adder8_rev)\n",
    "@time sift!(adder8_rev)\n",
    "@show BMP_volume(adder8_rev)\n",
    "@show all(eval(adder8_rev, adder_inputs) .== adder_outputs)"
   ]
  },
  {
   "cell_type": "code",
   "execution_count": null,
   "id": "f034a6cc-cbaf-4077-b782-96701c13654f",
   "metadata": {},
   "outputs": [],
   "source": []
  }
 ],
 "metadata": {
  "kernelspec": {
   "display_name": "Julia 1.11.3",
   "language": "julia",
   "name": "julia-1.11"
  },
  "language_info": {
   "file_extension": ".jl",
   "mimetype": "application/julia",
   "name": "julia",
   "version": "1.11.3"
  }
 },
 "nbformat": 4,
 "nbformat_minor": 5
}
